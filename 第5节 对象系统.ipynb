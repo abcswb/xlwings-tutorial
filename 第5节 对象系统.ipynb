{
 "cells": [
  {
   "cell_type": "markdown",
   "metadata": {},
   "source": [
    "# 1，对象\n",
    "\n",
    "* Application：Excel应用，提供控制Excel软件的接口；\n",
    "\n",
    "* Workbook：工作簿；\n",
    "\n",
    "* Sheet：工作表；\n",
    "\n",
    "* Range：区域；\n",
    "\n",
    "* Chart：Excel图表；\n",
    "\n",
    "* Picture：图片；\n",
    "\n",
    "* Plot：matplotlib 图表；\n"
   ]
  },
  {
   "cell_type": "markdown",
   "metadata": {},
   "source": [
    "## 1.1 Application"
   ]
  },
  {
   "cell_type": "code",
   "execution_count": 6,
   "metadata": {
    "collapsed": true
   },
   "outputs": [],
   "source": [
    "#设置默认编码，以便支持中文\n",
    "import sys\n",
    "reload(sys)\n",
    "sys.setdefaultencoding('utf-8')"
   ]
  },
  {
   "cell_type": "code",
   "execution_count": 1,
   "metadata": {
    "collapsed": false
   },
   "outputs": [],
   "source": [
    "\n",
    "\n",
    "#创建连接\n",
    "import xlwings as xw\n",
    "app=xw.App()\n",
    "wb=xw.Book('C:/mygits/xlwings tutorial/data/05/example.xlsx')\n"
   ]
  },
  {
   "cell_type": "code",
   "execution_count": 2,
   "metadata": {
    "collapsed": false
   },
   "outputs": [
    {
     "name": "stdout",
     "output_type": "stream",
     "text": [
      "Apps([<Excel App 7124>, <Excel App 6060>, <Excel App 5736>])\n"
     ]
    }
   ],
   "source": [
    "wb=xw.Book('C:/mygits/xlwings tutorial/data/05/example.xlsx')\n",
    "print xw.apps"
   ]
  },
  {
   "cell_type": "code",
   "execution_count": 2,
   "metadata": {
    "collapsed": false
   },
   "outputs": [
    {
     "name": "stdout",
     "output_type": "stream",
     "text": [
      "15.0\n"
     ]
    }
   ],
   "source": [
    "# Excel版本\n",
    "print app.version"
   ]
  },
  {
   "cell_type": "code",
   "execution_count": 3,
   "metadata": {
    "collapsed": false
   },
   "outputs": [
    {
     "name": "stdout",
     "output_type": "stream",
     "text": [
      "True\n"
     ]
    }
   ],
   "source": [
    "# 屏幕更新\n",
    "print app.screen_updating # True\n",
    "xw.Range('a1').value=1\n"
   ]
  },
  {
   "cell_type": "code",
   "execution_count": 4,
   "metadata": {
    "collapsed": true
   },
   "outputs": [],
   "source": [
    "#关闭屏幕更新\n",
    "app.screen_updating=False\n",
    "xw.Range('a2').value=2"
   ]
  },
  {
   "cell_type": "code",
   "execution_count": 5,
   "metadata": {
    "collapsed": false
   },
   "outputs": [],
   "source": [
    "# 隐藏app\n",
    "app.visible=False"
   ]
  },
  {
   "cell_type": "code",
   "execution_count": 6,
   "metadata": {
    "collapsed": true
   },
   "outputs": [],
   "source": [
    "#显示app\n",
    "app.visible=True"
   ]
  },
  {
   "cell_type": "markdown",
   "metadata": {},
   "source": [
    "## 1.2 Workbook"
   ]
  },
  {
   "cell_type": "code",
   "execution_count": 1,
   "metadata": {
    "collapsed": false
   },
   "outputs": [],
   "source": [
    "# 获取当前处于激活状态的工作簿\n",
    "import xlwings as xw\n",
    "from xlwings import Range\n",
    "wb=xw.Book('C:/mygits/xlwings tutorial/data/05/example.xlsx')\n",
    "wb2=xw.Book('C:/mygits/xlwings tutorial/data/05/example2.xlsx')\n"
   ]
  },
  {
   "cell_type": "code",
   "execution_count": 15,
   "metadata": {
    "collapsed": false
   },
   "outputs": [],
   "source": [
    "# 激活wb1\n",
    "\n",
    "wb.activate()"
   ]
  },
  {
   "cell_type": "code",
   "execution_count": 20,
   "metadata": {
    "collapsed": false
   },
   "outputs": [
    {
     "name": "stdout",
     "output_type": "stream",
     "text": [
      "c:\\mygits\\xlwings tutorial\\data\\05\\example.xlsx\n",
      "c:\\mygits\\xlwings tutorial\\data\\05\\example2.xlsx\n"
     ]
    }
   ],
   "source": [
    "# 文件路径\n",
    "print wb.fullname\n",
    "print wb2.fullname"
   ]
  },
  {
   "cell_type": "code",
   "execution_count": 23,
   "metadata": {
    "collapsed": false
   },
   "outputs": [],
   "source": [
    "# 获取选中区域\n",
    "wb.selection.value=5"
   ]
  },
  {
   "cell_type": "code",
   "execution_count": 25,
   "metadata": {
    "collapsed": false
   },
   "outputs": [],
   "source": [
    "# 保存更改\n",
    "\n",
    "wb.save()"
   ]
  },
  {
   "cell_type": "code",
   "execution_count": 26,
   "metadata": {
    "collapsed": true
   },
   "outputs": [],
   "source": [
    "# 关闭\n",
    "\n",
    "wb.close()"
   ]
  },
  {
   "cell_type": "markdown",
   "metadata": {},
   "source": [
    "## 1.3 Sheet"
   ]
  },
  {
   "cell_type": "code",
   "execution_count": 29,
   "metadata": {
    "collapsed": false
   },
   "outputs": [
    {
     "data": {
      "text/plain": [
       "Sheets([<Sheet [example2.xlsx]Sheet1>])"
      ]
     },
     "execution_count": 29,
     "metadata": {},
     "output_type": "execute_result"
    }
   ],
   "source": [
    "# 获取工作簿wb2的所有工作表\n",
    "\n",
    "wb2.sheets"
   ]
  },
  {
   "cell_type": "code",
   "execution_count": 30,
   "metadata": {
    "collapsed": false
   },
   "outputs": [
    {
     "data": {
      "text/plain": [
       "<Sheet [example2.xlsx]Sheet2>"
      ]
     },
     "execution_count": 30,
     "metadata": {},
     "output_type": "execute_result"
    }
   ],
   "source": [
    "# 创建工作表\n",
    "\n",
    "wb2.sheets.add(name='Sheet2',before='Sheet1')\n"
   ]
  },
  {
   "cell_type": "code",
   "execution_count": 32,
   "metadata": {
    "collapsed": false
   },
   "outputs": [
    {
     "data": {
      "text/plain": [
       "2"
      ]
     },
     "execution_count": 32,
     "metadata": {},
     "output_type": "execute_result"
    }
   ],
   "source": [
    "# 工作表总数\n",
    "\n",
    "wb2.sheets.count"
   ]
  },
  {
   "cell_type": "code",
   "execution_count": 34,
   "metadata": {
    "collapsed": false
   },
   "outputs": [],
   "source": [
    "# 删除当前激活的工作表\n",
    "\n",
    "st=wb2.sheets.active\n",
    "st.delete()"
   ]
  },
  {
   "cell_type": "code",
   "execution_count": 36,
   "metadata": {
    "collapsed": false
   },
   "outputs": [],
   "source": [
    "# 激活第一个工作表\n",
    "st=wb2.sheets(1)\n",
    "st.activate()"
   ]
  },
  {
   "cell_type": "code",
   "execution_count": 42,
   "metadata": {
    "collapsed": false
   },
   "outputs": [
    {
     "name": "stdout",
     "output_type": "stream",
     "text": [
      "Sheet1 1\n"
     ]
    }
   ],
   "source": [
    "# 工作表的索引和名字\n",
    "\n",
    "print st.index,st.name"
   ]
  },
  {
   "cell_type": "markdown",
   "metadata": {},
   "source": [
    "## 1.4 Range"
   ]
  },
  {
   "cell_type": "markdown",
   "metadata": {},
   "source": [
    "Range的初始化：\n",
    "\n",
    "    Range('A1')          Range('Sheet1', 'A1')          Range(1, 'A1')\n",
    "    Range('A1:C3')       Range('Sheet1', 'A1:C3')       Range(1, 'A1:C3')\n",
    "    Range((1,2))         Range('Sheet1, (1,2))          Range(1, (1,2))\n",
    "    Range((1,1), (3,3))  Range('Sheet1', (1,1), (3,3))  Range(1, (1,1), (3,3))\n",
    "    Range('NamedRange')  Range('Sheet1', 'NamedRange')  Range(1, 'NamedRange')"
   ]
  },
  {
   "cell_type": "code",
   "execution_count": 37,
   "metadata": {
    "collapsed": false
   },
   "outputs": [
    {
     "data": {
      "text/plain": [
       "[[4.0, 4.0, 4.0], [4.0, 4.0, 4.0], [4.0, 4.0, 4.0]]"
      ]
     },
     "execution_count": 37,
     "metadata": {},
     "output_type": "execute_result"
    }
   ],
   "source": [
    "# name属性\n",
    "\n",
    "rg=xw.Range('a1:c3')\n",
    "rg.name='testRange'  #将rg命名为testRange\n",
    "\n",
    "rg.value=4\n",
    "\n",
    "xw.Range('testRange').value  #通过名称来获取Range"
   ]
  },
  {
   "cell_type": "code",
   "execution_count": 42,
   "metadata": {
    "collapsed": false
   },
   "outputs": [
    {
     "name": "stdout",
     "output_type": "stream",
     "text": [
      "(3, 3)\n"
     ]
    }
   ],
   "source": [
    "# 判断Range性质(已经删除的方法)\n",
    "rg=xw.Range('testRange')\n",
    "\n",
    "#是否为单元格\n",
    "#print rg.is_cell()\n",
    "\n",
    "# 是否为行\n",
    "#print rg.is_row()\n",
    "\n",
    "# 是否为列\n",
    "#print rg.is_column()\n",
    "\n",
    "# 是否为table\n",
    "#print rg.is_table()\n",
    "\n"
   ]
  },
  {
   "cell_type": "code",
   "execution_count": 55,
   "metadata": {
    "collapsed": false
   },
   "outputs": [
    {
     "name": "stdout",
     "output_type": "stream",
     "text": [
      "$A$1:$A$3\n",
      "$A$1:$C$1\n",
      "$A$1:$C$3\n",
      "$A$1:$C$3\n",
      "$B$1:$C$3\n"
     ]
    }
   ],
   "source": [
    "# 连续区域\n",
    "\n",
    "a1=xw.Range('a1')\n",
    "b1=xw.Range('b1')\n",
    "print a1.expand('down').get_address()\n",
    "print a1.expand('horizontal').get_address()\n",
    "print a1.expand('table').get_address()#a1 左下方连续区域\n",
    "\n",
    "#连续区域\n",
    "print b1.current_region.get_address()#包含b1的连续区域\n",
    "print b1.expand('table').get_address()#b1 左下方连续区域\n"
   ]
  },
  {
   "cell_type": "code",
   "execution_count": 49,
   "metadata": {
    "collapsed": false
   },
   "outputs": [
    {
     "name": "stdout",
     "output_type": "stream",
     "text": [
      "9\n",
      "(3, 3)\n"
     ]
    }
   ],
   "source": [
    "# shape和size\n",
    "rg=xw.Range('a1:c3')\n",
    "print rg.size\n",
    "print rg.shape"
   ]
  },
  {
   "cell_type": "code",
   "execution_count": 12,
   "metadata": {
    "collapsed": false
   },
   "outputs": [],
   "source": [
    "#清除\n",
    "\n",
    "a1.clear()#全部清除\n",
    "b1.clear_contents()#仅清除内容"
   ]
  },
  {
   "cell_type": "code",
   "execution_count": 50,
   "metadata": {
    "collapsed": false
   },
   "outputs": [
    {
     "name": "stdout",
     "output_type": "stream",
     "text": [
      "8.43\n",
      "15.0\n",
      "45.0\n",
      "144.0\n"
     ]
    }
   ],
   "source": [
    "# 行列尺寸\n",
    "\n",
    "### 列宽(单位字节character)\n",
    "print a1.column_width\n",
    "\n",
    "### 行高(单位点数 point 打印单位)\n",
    "print a1.row_height\n",
    "\n",
    "### 区域高度\n",
    "print a1.expand('table').height\n",
    "\n",
    "### 区域宽度\n",
    "print a1.expand('table').width"
   ]
  },
  {
   "cell_type": "code",
   "execution_count": 51,
   "metadata": {
    "collapsed": false
   },
   "outputs": [
    {
     "name": "stdout",
     "output_type": "stream",
     "text": [
      "0.0\n",
      "48.0\n"
     ]
    }
   ],
   "source": [
    "# 位置(单位 点位)\n",
    "\n",
    "b1=xw.Range('b1')\n",
    "\n",
    "#top\n",
    "print b1.top\n",
    "\n",
    "#left\n",
    "print b1.left"
   ]
  },
  {
   "cell_type": "code",
   "execution_count": 56,
   "metadata": {
    "collapsed": false
   },
   "outputs": [],
   "source": [
    "#自动行高列宽\n",
    "xw.Range('c1').autofit()\n",
    "\n",
    "#自动列宽\n",
    "xw.Range('c1').columns.autofit()\n",
    "\n",
    "#自动行高\n",
    "xw.Range('c1').rows.autofit()"
   ]
  },
  {
   "cell_type": "code",
   "execution_count": 57,
   "metadata": {
    "collapsed": false
   },
   "outputs": [
    {
     "data": {
      "text/plain": [
       "u'http://mlln.cn/'"
      ]
     },
     "execution_count": 57,
     "metadata": {},
     "output_type": "execute_result"
    }
   ],
   "source": [
    "# 超链接 \n",
    "\n",
    "xw.Range('c1').add_hyperlink('http://mlln.cn',u'主页')\n",
    "\n",
    "xw.Range('c1').hyperlink"
   ]
  },
  {
   "cell_type": "code",
   "execution_count": 2,
   "metadata": {
    "collapsed": false
   },
   "outputs": [
    {
     "name": "stdout",
     "output_type": "stream",
     "text": [
      "None\n",
      "True\n"
     ]
    }
   ],
   "source": [
    "# 背景色\n",
    "from xlwings import Range\n",
    "\n",
    "Range('A1').color = (255,255,255)\n",
    "\n",
    "print Range('A2').color\n",
    "Range('A2').color = None\n",
    "print Range('A2').color is None\n"
   ]
  },
  {
   "cell_type": "code",
   "execution_count": 60,
   "metadata": {
    "collapsed": false
   },
   "outputs": [
    {
     "name": "stdout",
     "output_type": "stream",
     "text": [
      "$B$3\n",
      "$B$1\n",
      "$C$2\n",
      "$A$2\n"
     ]
    }
   ],
   "source": [
    "# 偏移\n",
    "\n",
    "print Range('b2').offset(row_offset=1).get_address()\n",
    "print Range('b2').offset(row_offset=-1).get_address()\n",
    "\n",
    "print Range('b2').offset(column_offset=1).get_address()\n",
    "print Range('b2').offset(column_offset=-1).get_address()"
   ]
  },
  {
   "cell_type": "code",
   "execution_count": 61,
   "metadata": {
    "collapsed": false
   },
   "outputs": [
    {
     "data": {
      "text/plain": [
       "u'$D$5'"
      ]
     },
     "execution_count": 61,
     "metadata": {},
     "output_type": "execute_result"
    }
   ],
   "source": [
    "# 右下角的cell\n",
    "\n",
    "Range('a1:d5').last_cell.get_address()"
   ]
  },
  {
   "cell_type": "markdown",
   "metadata": {},
   "source": [
    "### 1.5 shape\n",
    "\n"
   ]
  },
  {
   "cell_type": "code",
   "execution_count": 10,
   "metadata": {
    "collapsed": false
   },
   "outputs": [
    {
     "name": "stdout",
     "output_type": "stream",
     "text": [
      "<Shape 'Left Arrow 1' in <Sheet [example.xlsx]Sheet1>>\n"
     ]
    }
   ],
   "source": [
    "import xlwings as xw\n",
    "from xlwings import Range\n",
    "\n",
    "wb=xw.Book('C:/mygits/xlwings tutorial/data/05/example.xlsx')\n",
    "st=wb.sheets[0]\n",
    "sp=st.shapes[0]\n",
    "print sp"
   ]
  },
  {
   "cell_type": "code",
   "execution_count": 11,
   "metadata": {
    "collapsed": false
   },
   "outputs": [
    {
     "name": "stdout",
     "output_type": "stream",
     "text": [
      "Left Arrow 1\n"
     ]
    }
   ],
   "source": [
    "# 名称\n",
    "\n",
    "print sp.name"
   ]
  },
  {
   "cell_type": "code",
   "execution_count": 12,
   "metadata": {
    "collapsed": false
   },
   "outputs": [
    {
     "name": "stdout",
     "output_type": "stream",
     "text": [
      "132.0\n",
      "96.0\n"
     ]
    }
   ],
   "source": [
    "# 位置(单位：点位)\n",
    "\n",
    "print sp.left\n",
    "print sp.top"
   ]
  },
  {
   "cell_type": "code",
   "execution_count": 13,
   "metadata": {
    "collapsed": false
   },
   "outputs": [
    {
     "name": "stdout",
     "output_type": "stream",
     "text": [
      "114.0\n",
      "39.75\n"
     ]
    }
   ],
   "source": [
    "# 长宽\n",
    "\n",
    "print sp.width\n",
    "print sp.height"
   ]
  },
  {
   "cell_type": "code",
   "execution_count": 27,
   "metadata": {
    "collapsed": true
   },
   "outputs": [],
   "source": [
    "# 删除\n",
    "\n",
    "sp.delete()"
   ]
  },
  {
   "cell_type": "markdown",
   "metadata": {},
   "source": [
    "### 1.6 chart"
   ]
  },
  {
   "cell_type": "code",
   "execution_count": 4,
   "metadata": {
    "collapsed": false
   },
   "outputs": [
    {
     "data": {
      "text/plain": [
       "u'Chart 1'"
      ]
     },
     "execution_count": 4,
     "metadata": {},
     "output_type": "execute_result"
    }
   ],
   "source": [
    "# 插入chart\n",
    "import xlwings as xw\n",
    "sht = xw.Book().sheets[0]\n",
    "sht.range('A1').value = [['Foo1', 'Foo2'], [1, 2]]\n",
    "chart = sht.charts.add()\n",
    "chart.set_source_data(sht.range('A1').expand())\n",
    "chart.chart_type = 'line'\n",
    "chart.name"
   ]
  },
  {
   "cell_type": "code",
   "execution_count": 7,
   "metadata": {
    "collapsed": false
   },
   "outputs": [
    {
     "data": {
      "text/plain": [
       "<Chart 'Chart 1' in <Sheet [宸ヤ綔绨�]Sheet1>>"
      ]
     },
     "execution_count": 7,
     "metadata": {},
     "output_type": "execute_result"
    }
   ],
   "source": [
    "#与已有chart建立连接（实例化）\n",
    "sht.charts[0]"
   ]
  },
  {
   "cell_type": "code",
   "execution_count": 12,
   "metadata": {
    "collapsed": false
   },
   "outputs": [],
   "source": [
    "# 更改chart类型\n",
    "from xlwings.constants import ChartType\n",
    "chart.chart_type = '3d_area'\n",
    "\n",
    "# 更改chart数据源\n",
    "chart.set_source_data(sht.range('b2').expand())"
   ]
  },
  {
   "cell_type": "code",
   "execution_count": 14,
   "metadata": {
    "collapsed": false
   },
   "outputs": [],
   "source": [
    "# chart 基本属性\n",
    "\n",
    "print chart.height\n",
    "print chart.width\n",
    "print chart.name\n",
    "print chart.top\n",
    "print chart.left\n"
   ]
  },
  {
   "cell_type": "code",
   "execution_count": 35,
   "metadata": {
    "collapsed": true
   },
   "outputs": [],
   "source": [
    "# 删除\n",
    "\n",
    "chart.delete()"
   ]
  },
  {
   "cell_type": "markdown",
   "metadata": {},
   "source": [
    "### 1.7 Picture\n"
   ]
  },
  {
   "cell_type": "markdown",
   "metadata": {},
   "source": [
    "连接图片（实例化）\n",
    "\n",
    "    Picture(1)              Picture('Sheet1', 1)                Picture(1, 1)\n",
    "    Picture('Picture 1')    Picture('Sheet1', 'Picture 1')      Picture(1, 'Picture 1')"
   ]
  },
  {
   "cell_type": "code",
   "execution_count": 20,
   "metadata": {
    "collapsed": false
   },
   "outputs": [],
   "source": [
    "pic=sht.pictures.add('C:\\\\mygits\\\\xlwings tutorial\\\\data\\\\05\\\\pic.jpg')"
   ]
  },
  {
   "cell_type": "code",
   "execution_count": 21,
   "metadata": {
    "collapsed": false
   },
   "outputs": [],
   "source": [
    "#基本属性\n",
    "\n",
    "print pic.name\n",
    "print pic.width\n",
    "print pic.height\n",
    "print pic.top\n",
    "print pic.left"
   ]
  },
  {
   "cell_type": "code",
   "execution_count": 22,
   "metadata": {
    "collapsed": true
   },
   "outputs": [],
   "source": [
    "pic.delete()"
   ]
  },
  {
   "cell_type": "markdown",
   "metadata": {},
   "source": [
    "### 1.8 Plot"
   ]
  },
  {
   "cell_type": "code",
   "execution_count": 23,
   "metadata": {
    "collapsed": false
   },
   "outputs": [],
   "source": [
    "import matplotlib.pyplot as plt\n",
    "import xlwings as xw\n",
    "\n",
    "fig = plt.figure()\n",
    "plt.plot([1, 2, 3])\n",
    "\n",
    "sht = xw.Book().sheets[0]\n",
    "pic=sht.pictures.add(fig, name='MyPlot', update=True)"
   ]
  },
  {
   "cell_type": "code",
   "execution_count": 1,
   "metadata": {
    "collapsed": false
   },
   "outputs": [
    {
     "data": {
      "text/plain": [
       "u'Chart 1'"
      ]
     },
     "execution_count": 1,
     "metadata": {},
     "output_type": "execute_result"
    }
   ],
   "source": []
  }
 ],
 "metadata": {
  "kernelspec": {
   "display_name": "Python 2",
   "language": "python",
   "name": "python2"
  },
  "language_info": {
   "codemirror_mode": {
    "name": "ipython",
    "version": 2
   },
   "file_extension": ".py",
   "mimetype": "text/x-python",
   "name": "python",
   "nbconvert_exporter": "python",
   "pygments_lexer": "ipython2",
   "version": "2.7.11"
  }
 },
 "nbformat": 4,
 "nbformat_minor": 0
}
