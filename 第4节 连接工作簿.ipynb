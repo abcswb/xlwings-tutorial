{
 "cells": [
  {
   "cell_type": "markdown",
   "metadata": {},
   "source": [
    "如何从python中控制Excel，我们首先要建立python与Excel文件的连接，有五种方法可以建立连接：\n",
    "\n",
    "* wb=Workbook() 创建一个新工作簿，并与之建立连接；\n",
    "\n",
    "* wb = Workbook.active() 与已经打开并且处于激活状态；\n",
    "\n",
    "* wb = Workbook('工作簿1') 已经创建但并没有保存过的工作簿连接；\n",
    "\n",
    "* wb = Workbook('MyWorkbook.xlsx') 与一个已经保存并且是打开状态的工作簿连接；\n",
    "\n",
    "* wb = Workbook(r'C:\\path\\to\\file.xlsx') 与一个已有文件连接，不管是打开还是关闭。"
   ]
  }
 ],
 "metadata": {
  "kernelspec": {
   "display_name": "Python 2",
   "language": "python",
   "name": "python2"
  },
  "language_info": {
   "codemirror_mode": {
    "name": "ipython",
    "version": 2
   },
   "file_extension": ".py",
   "mimetype": "text/x-python",
   "name": "python",
   "nbconvert_exporter": "python",
   "pygments_lexer": "ipython2",
   "version": "2.7.11"
  }
 },
 "nbformat": 4,
 "nbformat_minor": 0
}
