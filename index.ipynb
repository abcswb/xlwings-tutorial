{
 "cells": [
  {
   "cell_type": "markdown",
   "metadata": {},
   "source": [
    "# xlwings教程目录\n",
    "\n",
    "-- Delta数据工作室\twww.mlln.cn  QQ: 1497369272"
   ]
  },
  {
   "cell_type": "markdown",
   "metadata": {},
   "source": [
    "## 第1节 [xlwings介绍.ipynb](第1节%20xlwings介绍.ipynb)\n",
    "\n",
    "Xlwings是一个python包，它可以让你用python操作Excel，同样也可以让你在Excel中调用python脚本。\n",
    "\n",
    "## 第2节 [xlwings快速入门.ipynb](第2节%20xlwings快速入门.ipynb)\n",
    "\n",
    "## 第3节 [xlwings安装.ipynb](第3节%20xlwings安装.ipynb)\n",
    "\n",
    "## 第4节 [连接工作簿.ipynb](第4节%20连接工作簿.ipynb)\n",
    "\n",
    "## 第5节 [对象系统.ipynb](第5节%20对象系统.ipynb)"
   ]
  }
 ],
 "metadata": {
  "kernelspec": {
   "display_name": "Python 2",
   "language": "python",
   "name": "python2"
  },
  "language_info": {
   "codemirror_mode": {
    "name": "ipython",
    "version": 2
   },
   "file_extension": ".py",
   "mimetype": "text/x-python",
   "name": "python",
   "nbconvert_exporter": "python",
   "pygments_lexer": "ipython2",
   "version": "2.7.11"
  }
 },
 "nbformat": 4,
 "nbformat_minor": 0
}
