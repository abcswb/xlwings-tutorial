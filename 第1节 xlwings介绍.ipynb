{
 "cells": [
  {
   "cell_type": "markdown",
   "metadata": {},
   "source": [
    "# 第1节 xlwings介绍\n",
    "\n",
    "-- Delta数据工作室\twww.mlln.cn  QQ: 1497369272"
   ]
  },
  {
   "cell_type": "markdown",
   "metadata": {},
   "source": [
    "#### 1，Xlwings是一个python包，它可以让你用python操作Excel，同样也可以让你在Excel中调用python脚本。\n",
    "\n",
    "* 脚本：在python脚本中控制Excel，就像vba脚本一样；\n",
    "\n",
    "* 宏：用简洁的python代码代替臃肿的vba宏；\n",
    "\n",
    "* 用户定义函数：用python写Excel函数，用起来就像vba写的函数一样。\n"
   ]
  },
  {
   "cell_type": "markdown",
   "metadata": {},
   "source": [
    "#### 2，为什么VBA会被淘汰\n",
    "\n",
    "* 非专业：很少有计算机科班出身的人把VBA当作自己主要的编程语言\n",
    "\n",
    "* 局限性：VBA顾名思义，只能运行在微软的office软件中，这使得离开办公软件，我们无法找到VBA的其他价值，虽然它归属于VB，但是现在已经少有公司使用VB进行开发了。\n",
    "\n",
    "* 入门慢：我们很难用易用性来衡量一门计算机语言，因为这跟程序员的习惯有很大关系，习惯c++编程风格的人会觉得python语法太过自由，但是，从VBA的用户群体出发，让一群不懂的计算机的人去学习VB，有很大的挑战性。\n",
    "\n",
    "* 社区和文档匮乏：VBA功能有限，开发人员少，似乎不需要太多的社区和文档，但是当学习者遇到问题，他很难找到一个VBA精通者来解答这些问题。\n",
    "\n",
    "* 代码难分享：VBA的代码保存在Excel文件中，并不是一个独立的文件，因此你很难在类似github这样的代码托管平台上见到VBA。这导致VBA的开发人员都是单打独斗，不能利用别人已有的代码和经验，事事都要自己亲手做，因此VBA开发效率极低。\n",
    "\n",
    "##### 总而言之，从以上这些特点我们可以总结一句话，VBA是一门付出和收益不成正比的语言，你要花费大量时间来学习一门用处有限的语言。"
   ]
  },
  {
   "cell_type": "markdown",
   "metadata": {},
   "source": [
    "####   3，python语言特点\n",
    "\n",
    "\n",
    "\n",
    "* 学习曲线平缓：python入门很快，你不必具有专业的计算机知识便可以轻松掌握python的基本用法，像java 和c这样强类型语言，很多人学到数据类型的时候就已经摸不到头脑，因此很容易在入门的时候就放弃。如果我们假设一个学习者最终都是放弃编程，那么学习python的路径是“入门--精通--放弃”，其他类似java和c这样的语言应该是“入门--放弃”。路径的区别意义重大，很多工作（例如数据科学家）并不需要精通python，他只需要利用python完成一些数据处理的工作即可，在放弃编程之前，python已经可以帮他完成很多工作了。\n",
    "\n",
    "> 有兴趣的童鞋可以看下 [7种语言的学习曲线](http://blog.jobbole.com/77608/ \"学习曲线\")\n",
    "\n",
    "* 丰富的第三方工具：python生态资源丰富，有众多功能完备的第三方库，例如科学计算numpy库，数据挖掘orange包，机器学习scikit-learn包，网站开发django框架，爬虫scrapy包等等等等。\n",
    "\n",
    "* 广泛的应用场景：python可以帮助你完成很多工作：数据的爬取、清理，网站开发，系统维护等，而且因为python开发速度快，代码量小，很多创业公司都把python作为主要的开发语言。\n",
    "\n",
    "* ...\n",
    "\n",
    "##### python 的优点很多，总结一句话就是“生命短暂，快用python”。"
   ]
  },
  {
   "cell_type": "markdown",
   "metadata": {},
   "source": [
    "#### 4，xlwings适用对象\n",
    "\n",
    "* Excel重症患者：如果你的工作内容大部分都涉及到Excel，你不得不学习xlwings，换一种思维方式来看待工作也许是你现在最需要的；\n",
    "\n",
    "* VBA程序员：xlwings模拟了VBA的接口，因此从VBA过渡到xlwings将非常方便，你将拥有python丰富的工具库，你的工作效率将成几何级数上升；\n",
    "\n",
    "* 数据分析员：xlwings让你在Excel中分析数据，保存结果，可视化数据，与此同时你可以使用python中任何科学计算库帮助你实现VBA难以实现的算法。"
   ]
  },
  {
   "cell_type": "markdown",
   "metadata": {},
   "source": [
    "#### 5，xlwings快速入门"
   ]
  },
  {
   "cell_type": "code",
   "execution_count": 2,
   "metadata": {
    "collapsed": false
   },
   "outputs": [
    {
     "name": "stdout",
     "output_type": "stream",
     "text": [
      "2.0\n",
      "[[1.0, 2.0, 3.0], [4.0, 5.0, 6.0]]\n"
     ]
    }
   ],
   "source": [
    "import xlwings as xw\n",
    "wb=xw.Workbook()#新建一个工作簿，并创建连接\n",
    "xw.Range('A1').value=1  #单元格赋值\n",
    "xw.Range('a1').value=2 #\n",
    "# 读取\n",
    "print xw.Range('a1').value\n",
    "\n",
    "#矩阵读写\n",
    "xw.Range('A1').value=[[1,2,3],[4,5,6]]\n",
    "print xw.Range('A1').table.value\n",
    "\n",
    "#插入图表\n",
    "chart = xw.Chart.add(source_data=xw.Range('A1').table)"
   ]
  }
 ],
 "metadata": {
  "kernelspec": {
   "display_name": "Python 2",
   "language": "python",
   "name": "python2"
  },
  "language_info": {
   "codemirror_mode": {
    "name": "ipython",
    "version": 2
   },
   "file_extension": ".py",
   "mimetype": "text/x-python",
   "name": "python",
   "nbconvert_exporter": "python",
   "pygments_lexer": "ipython2",
   "version": "2.7.11"
  }
 },
 "nbformat": 4,
 "nbformat_minor": 0
}
