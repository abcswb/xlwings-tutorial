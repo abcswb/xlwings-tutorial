{
 "cells": [
  {
   "cell_type": "markdown",
   "metadata": {},
   "source": [
    "# 1，安装pywin32\n",
    "\n",
    "系统环境：win7 64bit\n",
    "python版本：2.7 32bit\n",
    "\n",
    "从我的网盘下载pywin32的wheel安装包。\n",
    "\n",
    "        下载链接：http://pan.baidu.com/s/1dF7b2sL 密码：c1tv\n",
    "\n",
    "使用包管理工具`pip`来安装。\n",
    "\n",
    "    pip install pywin32-219-cp27-none-win32.whl"
   ]
  },
  {
   "cell_type": "markdown",
   "metadata": {},
   "source": [
    "# 2，安装xlwings\n",
    "\n",
    "很简单：\n",
    "\n",
    "    pip install xlwings"
   ]
  },
  {
   "cell_type": "markdown",
   "metadata": {},
   "source": [
    "# 3，安装Excel插件（for udfs）\n",
    "\n",
    "    * 设置Excel：文件>选项>信任中心>信任中心设置>宏设置>信任对VBA工程对象模型的访问\n",
    "    \n",
    "    * 在命令行运行：`xlwings addin install`"
   ]
  },
  {
   "cell_type": "markdown",
   "metadata": {},
   "source": [
    "# 附录：\n",
    "\n",
    "1，安装numpy\n",
    "\n",
    "    下载链接：http://pan.baidu.com/s/1bpjyWDD 密码：eo1k\n",
    "    \n",
    "    安装方法同第一步中安装pywin32\n",
    "    \n",
    "2，安装matplotlib\n",
    "\n",
    "    pip install matplotlib\n",
    "\n",
    "3，安装pandas\n",
    "\n",
    "    pip install pandas"
   ]
  }
 ],
 "metadata": {
  "kernelspec": {
   "display_name": "Python 2",
   "language": "python",
   "name": "python2"
  },
  "language_info": {
   "codemirror_mode": {
    "name": "ipython",
    "version": 2
   },
   "file_extension": ".py",
   "mimetype": "text/x-python",
   "name": "python",
   "nbconvert_exporter": "python",
   "pygments_lexer": "ipython2",
   "version": "2.7.11"
  }
 },
 "nbformat": 4,
 "nbformat_minor": 0
}
