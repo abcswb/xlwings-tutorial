{
 "cells": [
  {
   "cell_type": "markdown",
   "metadata": {},
   "source": [
    "# 1，创建工作簿"
   ]
  },
  {
   "cell_type": "code",
   "execution_count": 7,
   "metadata": {
    "collapsed": false
   },
   "outputs": [],
   "source": [
    "import xlwings as xw\n",
    "wb = xw.Book() #新建一个Excel文件，并与之建立连接\n",
    "sht=wb.sheets[0]#sheets是工作簿所有的工作表\n",
    "sht= wb.sheets['Sheet1']#也可以通过名称获取工作表"
   ]
  },
  {
   "cell_type": "markdown",
   "metadata": {},
   "source": [
    "# 2，单元格赋值"
   ]
  },
  {
   "cell_type": "code",
   "execution_count": 5,
   "metadata": {
    "collapsed": false
   },
   "outputs": [],
   "source": [
    "#单个值\n",
    "sht.range('A1').value=1\n",
    "sht.range('b1').value=2\n",
    "\n",
    "#矩阵\n",
    "sht.range('C1').value=[[1,2,3],\n",
    "                     [4,5,6]]\n",
    "\n"
   ]
  },
  {
   "cell_type": "markdown",
   "metadata": {},
   "source": [
    "# 3，单元格取值"
   ]
  },
  {
   "cell_type": "code",
   "execution_count": 8,
   "metadata": {
    "collapsed": false
   },
   "outputs": [
    {
     "name": "stdout",
     "output_type": "stream",
     "text": [
      "None\n",
      "None\n"
     ]
    }
   ],
   "source": [
    "#单个值\n",
    "print sht.range('a1').value\n",
    "\n",
    "#多个单元格构成的连续区域\n",
    "print sht.range('c1').expand().value\n"
   ]
  },
  {
   "cell_type": "markdown",
   "metadata": {
    "collapsed": true
   },
   "source": [
    "# 4，插入图表"
   ]
  },
  {
   "cell_type": "code",
   "execution_count": 10,
   "metadata": {
    "collapsed": false
   },
   "outputs": [],
   "source": [
    "chart = sht.charts.add()\n",
    "chart.set_source_data(sht.range('c1').expand())"
   ]
  },
  {
   "cell_type": "markdown",
   "metadata": {},
   "source": [
    "# 5，插入matplotlib图"
   ]
  },
  {
   "cell_type": "code",
   "execution_count": 15,
   "metadata": {
    "collapsed": false
   },
   "outputs": [],
   "source": [
    "import matplotlib.pyplot as plt\n",
    "fig = plt.figure()\n",
    "plt.plot([1, 2, 3, 4, 5])\n",
    "plot = sht.pictures.add(fig, name='MyPlot', update=True)"
   ]
  },
  {
   "cell_type": "markdown",
   "metadata": {},
   "source": [
    "# 6，在VBA中调用python\n",
    "\n",
    "按下快捷键`ctrl+r`，输入`cmd`，回车即可打开命令行；\n",
    "\n",
    "先在命令行敲下：\n",
    "    xlwings quickstart project\n",
    "\n",
    "你就会看到在当前工作目录下创建了一个文件夹`project`，里面的文件有2个：project.py 和project.xlsm，看后缀名你们应该知道他们是干嘛用的。\n",
    "\n",
    "打开project.xlsm，按下快捷键`alt+f11`，你就会看到已经为你写好的代码，在Module1中，我们写入：\n",
    "\n",
    "    Sub SampleCall()\n",
    "        RunPython (\"import project;project.hello()\")\n",
    "    End Sub\n",
    "\n",
    "打开project.py ，在其中写入：\n",
    "\n",
    "    import xlwings as xw\n",
    "    def hello():\n",
    "        wb = xw.Workbook.caller()\n",
    "        xw.Range('a1').value='hello'\n",
    "        \n",
    "        \n",
    "接着回到Module1，运行，看效果。"
   ]
  },
  {
   "cell_type": "markdown",
   "metadata": {
    "collapsed": true
   },
   "source": [
    "# 7，自定义函数\n",
    "\n",
    "我们使用官方的一个例子：用func装饰器来使普通函数变成一个可以在Excel中调用的函数。将这段代码放在project.py文件中\n",
    "\n",
    "    @xw.func\n",
    "    def double_sum(x, y):\n",
    "        \"\"\"Returns twice the sum of the two arguments\"\"\"\n",
    "        return 2*(x+y)\n",
    "\n",
    "然后，打开project.xlsm，点击xlwings标签下的`import python UDFs`，这样你就可以在Excel中使用该方法了。\n",
    "\n",
    "当然关于用户自定义函数我们还有很多话要说，以后慢慢谈。"
   ]
  }
 ],
 "metadata": {
  "kernelspec": {
   "display_name": "Python 2",
   "language": "python",
   "name": "python2"
  },
  "language_info": {
   "codemirror_mode": {
    "name": "ipython",
    "version": 2
   },
   "file_extension": ".py",
   "mimetype": "text/x-python",
   "name": "python",
   "nbconvert_exporter": "python",
   "pygments_lexer": "ipython2",
   "version": "2.7.11"
  }
 },
 "nbformat": 4,
 "nbformat_minor": 0
}
