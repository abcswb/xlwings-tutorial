{
 "cells": [
  {
   "cell_type": "markdown",
   "metadata": {},
   "source": [
    "# 1，创建工作簿"
   ]
  },
  {
   "cell_type": "code",
   "execution_count": null,
   "metadata": {
    "collapsed": true
   },
   "outputs": [],
   "source": [
    "import xlwings as xw\n",
    "wb = xw.Workbook() #新建一个Excel文件，并与之建立连接"
   ]
  },
  {
   "cell_type": "markdown",
   "metadata": {},
   "source": [
    "# 2，单元格赋值"
   ]
  },
  {
   "cell_type": "code",
   "execution_count": null,
   "metadata": {
    "collapsed": true
   },
   "outputs": [],
   "source": [
    "#单个值\n",
    "xw.Range('A1').value=1\n",
    "xw.Range('b1').value=2\n",
    "\n",
    "#矩阵\n",
    "xw.Range('C1').value=[[1,2,3],\n",
    "                     [4,5,6]]\n",
    "\n",
    "#指定sheet名\n",
    "wx.Range('Sheet1','a2').value='sheet1-a2'"
   ]
  },
  {
   "cell_type": "markdown",
   "metadata": {},
   "source": [
    "# 3，单元格取值"
   ]
  },
  {
   "cell_type": "code",
   "execution_count": 1,
   "metadata": {
    "collapsed": false
   },
   "outputs": [
    {
     "ename": "NameError",
     "evalue": "name 'wx' is not defined",
     "output_type": "error",
     "traceback": [
      "\u001b[0;31m---------------------------------------------------------------------------\u001b[0m",
      "\u001b[0;31mNameError\u001b[0m                                 Traceback (most recent call last)",
      "\u001b[0;32m<ipython-input-1-41f31402ed97>\u001b[0m in \u001b[0;36m<module>\u001b[0;34m()\u001b[0m\n\u001b[1;32m      1\u001b[0m \u001b[0;31m#单个值\u001b[0m\u001b[0;34m\u001b[0m\u001b[0;34m\u001b[0m\u001b[0m\n\u001b[0;32m----> 2\u001b[0;31m \u001b[0;32mprint\u001b[0m \u001b[0mwx\u001b[0m\u001b[0;34m.\u001b[0m\u001b[0mRange\u001b[0m\u001b[0;34m(\u001b[0m\u001b[0;34m'a1'\u001b[0m\u001b[0;34m)\u001b[0m\u001b[0;34m.\u001b[0m\u001b[0mvalue\u001b[0m\u001b[0;34m\u001b[0m\u001b[0m\n\u001b[0m\u001b[1;32m      3\u001b[0m \u001b[0;34m\u001b[0m\u001b[0m\n\u001b[1;32m      4\u001b[0m \u001b[0;31m#多个单元格构成的连续区域\u001b[0m\u001b[0;34m\u001b[0m\u001b[0;34m\u001b[0m\u001b[0m\n\u001b[1;32m      5\u001b[0m \u001b[0;32mprint\u001b[0m \u001b[0mwx\u001b[0m\u001b[0;34m.\u001b[0m\u001b[0mRange\u001b[0m\u001b[0;34m(\u001b[0m\u001b[0;34m'c1'\u001b[0m\u001b[0;34m)\u001b[0m\u001b[0;34m.\u001b[0m\u001b[0mtable\u001b[0m\u001b[0;34m.\u001b[0m\u001b[0mvalue\u001b[0m\u001b[0;34m\u001b[0m\u001b[0m\n",
      "\u001b[0;31mNameError\u001b[0m: name 'wx' is not defined"
     ]
    }
   ],
   "source": [
    "#单个值\n",
    "print xw.Range('a1').value\n",
    "\n",
    "#多个单元格构成的连续区域\n",
    "print xw.Range('c1').table.value\n",
    "\n",
    "#指定sheet名\n",
    "print wx.Range('Sheet1','a2').value"
   ]
  },
  {
   "cell_type": "markdown",
   "metadata": {
    "collapsed": true
   },
   "source": [
    "# 4，插入图表"
   ]
  },
  {
   "cell_type": "code",
   "execution_count": null,
   "metadata": {
    "collapsed": true
   },
   "outputs": [],
   "source": [
    "chart = xw.Chart.add(source_data=xw.Range('c1').table)"
   ]
  },
  {
   "cell_type": "markdown",
   "metadata": {},
   "source": [
    "# 5，插入matplotlib图"
   ]
  },
  {
   "cell_type": "code",
   "execution_count": null,
   "metadata": {
    "collapsed": true
   },
   "outputs": [],
   "source": [
    "import matplotlib.pyplot as plt\n",
    "fig = plt.figure()\n",
    "plt.plot([1, 2, 3, 4, 5])\n",
    "plot = xw.Plot(fig)\n",
    "plot.show('Plot1')"
   ]
  },
  {
   "cell_type": "markdown",
   "metadata": {},
   "source": [
    "# 6，在VBA中调用python\n",
    "\n",
    "按下快捷键`ctrl+r`，输入`cmd`，回车即可打开命令行；\n",
    "\n",
    "先在命令行敲下：\n",
    "    xlwings quickstart project\n",
    "\n",
    "你就会看到在当前工作目录下创建了一个文件夹`project`，里面的文件有2个：project.py 和project.xlsm，看后缀名你们应该知道他们是干嘛用的。\n",
    "\n",
    "打开project.xlsm，按下快捷键`alt+f11`，你就会看到已经为你写好的代码，在Module1中，我们写入：\n",
    "\n",
    "    Sub SampleCall()\n",
    "        RunPython (\"import project;project.hello()\")\n",
    "    End Sub\n",
    "\n",
    "打开project.py ，在其中写入：\n",
    "\n",
    "    import xlwings as xw\n",
    "    def hello():\n",
    "        wb = xw.Workbook.caller()\n",
    "        xw.Range('a1').value='hello'\n",
    "        \n",
    "        \n",
    "接着回到Module1，运行，看效果。"
   ]
  },
  {
   "cell_type": "markdown",
   "metadata": {
    "collapsed": true
   },
   "source": [
    "# 7，自定义函数\n",
    "\n",
    "我们使用官方的一个例子：用func装饰器来使普通函数变成一个可以在Excel中调用的函数。将这段代码放在project.py文件中\n",
    "\n",
    "    @xw.func\n",
    "    def double_sum(x, y):\n",
    "        \"\"\"Returns twice the sum of the two arguments\"\"\"\n",
    "        return 2*(x+y)\n",
    "\n",
    "然后，打开project.xlsm，点击xlwings标签下的`import python UDFs`，这样你就可以在Excel中使用该方法了。\n",
    "\n",
    "当然关于用户自定义函数我们还有很多话要说，以后慢慢谈。"
   ]
  }
 ],
 "metadata": {
  "kernelspec": {
   "display_name": "Python 2",
   "language": "python",
   "name": "python2"
  },
  "language_info": {
   "codemirror_mode": {
    "name": "ipython",
    "version": 2
   },
   "file_extension": ".py",
   "mimetype": "text/x-python",
   "name": "python",
   "nbconvert_exporter": "python",
   "pygments_lexer": "ipython2",
   "version": "2.7.11"
  }
 },
 "nbformat": 4,
 "nbformat_minor": 0
}
